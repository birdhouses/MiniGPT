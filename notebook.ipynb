{
 "cells": [
  {
   "cell_type": "code",
   "execution_count": 3,
   "metadata": {},
   "outputs": [
    {
     "name": "stderr",
     "output_type": "stream",
     "text": [
      "[nltk_data] Downloading package punkt to\n",
      "[nltk_data]     C:\\Users\\peerd\\AppData\\Roaming\\nltk_data...\n",
      "[nltk_data]   Package punkt is already up-to-date!\n"
     ]
    },
    {
     "name": "stdout",
     "output_type": "stream",
     "text": [
      "\u001b[1mDownloading and preparing dataset Unknown size (download: Unknown size, generated: Unknown size, total: Unknown size) to C:\\Users\\peerd\\tensorflow_datasets\\imdb_reviews\\plain_text\\1.0.0...\u001b[0m\n"
     ]
    },
    {
     "name": "stderr",
     "output_type": "stream",
     "text": [
      "C:\\Users\\peerd\\AppData\\Local\\Packages\\PythonSoftwareFoundation.Python.3.10_qbz5n2kfra8p0\\LocalCache\\local-packages\\Python310\\site-packages\\tqdm\\auto.py:21: TqdmWarning: IProgress not found. Please update jupyter and ipywidgets. See https://ipywidgets.readthedocs.io/en/stable/user_install.html\n",
      "  from .autonotebook import tqdm as notebook_tqdm\n",
      "Dl Size...: 100%|██████████| 80/80 [00:08<00:00,  9.26 MiB/s]rl]\n",
      "Dl Completed...: 100%|██████████| 1/1 [00:08<00:00,  8.65s/ url]\n",
      "                                                                        "
     ]
    },
    {
     "name": "stdout",
     "output_type": "stream",
     "text": [
      "\u001b[1mDataset imdb_reviews downloaded and prepared to C:\\Users\\peerd\\tensorflow_datasets\\imdb_reviews\\plain_text\\1.0.0. Subsequent calls will reuse this data.\u001b[0m\n"
     ]
    },
    {
     "name": "stderr",
     "output_type": "stream",
     "text": [
      "\r"
     ]
    },
    {
     "ename": "TypeError",
     "evalue": "sequence item 0: expected str instance, int found",
     "output_type": "error",
     "traceback": [
      "\u001b[1;31m---------------------------------------------------------------------------\u001b[0m",
      "\u001b[1;31mTypeError\u001b[0m                                 Traceback (most recent call last)",
      "Cell \u001b[1;32mIn[3], line 18\u001b[0m\n\u001b[0;32m     15\u001b[0m dataset, info \u001b[38;5;241m=\u001b[39m tfds\u001b[38;5;241m.\u001b[39mload(\u001b[38;5;124m'\u001b[39m\u001b[38;5;124mimdb_reviews\u001b[39m\u001b[38;5;124m'\u001b[39m, with_info\u001b[38;5;241m=\u001b[39m\u001b[38;5;28;01mTrue\u001b[39;00m, as_supervised\u001b[38;5;241m=\u001b[39m\u001b[38;5;28;01mTrue\u001b[39;00m)\n\u001b[0;32m     17\u001b[0m \u001b[38;5;66;03m# Convert dataset to pandas DataFrame\u001b[39;00m\n\u001b[1;32m---> 18\u001b[0m train_data_tfds \u001b[38;5;241m=\u001b[39m \u001b[43mtfds\u001b[49m\u001b[38;5;241;43m.\u001b[39;49m\u001b[43mas_dataframe\u001b[49m\u001b[43m(\u001b[49m\u001b[43mdataset\u001b[49m\u001b[43m[\u001b[49m\u001b[38;5;124;43m'\u001b[39;49m\u001b[38;5;124;43mtrain\u001b[39;49m\u001b[38;5;124;43m'\u001b[39;49m\u001b[43m]\u001b[49m\u001b[43m)\u001b[49m\n\u001b[0;32m     19\u001b[0m test_data_tfds \u001b[38;5;241m=\u001b[39m tfds\u001b[38;5;241m.\u001b[39mas_dataframe(dataset[\u001b[38;5;124m'\u001b[39m\u001b[38;5;124mtest\u001b[39m\u001b[38;5;124m'\u001b[39m])\n\u001b[0;32m     21\u001b[0m \u001b[38;5;66;03m# Prepare the dataset by concatenating the train and test sets\u001b[39;00m\n",
      "File \u001b[1;32m~\\AppData\\Local\\Packages\\PythonSoftwareFoundation.Python.3.10_qbz5n2kfra8p0\\LocalCache\\local-packages\\Python310\\site-packages\\tensorflow_datasets\\core\\as_dataframe.py:213\u001b[0m, in \u001b[0;36mas_dataframe\u001b[1;34m(ds, ds_info)\u001b[0m\n\u001b[0;32m    209\u001b[0m   ds \u001b[38;5;241m=\u001b[39m dataset_info\u001b[38;5;241m.\u001b[39mpack_as_supervised_ds(ds, ds_info)\n\u001b[0;32m    211\u001b[0m \u001b[38;5;66;03m# Flatten the keys names, specs,... while keeping the feature key definition\u001b[39;00m\n\u001b[0;32m    212\u001b[0m \u001b[38;5;66;03m# order\u001b[39;00m\n\u001b[1;32m--> 213\u001b[0m columns \u001b[38;5;241m=\u001b[39m \u001b[43m_make_columns\u001b[49m\u001b[43m(\u001b[49m\u001b[43mds\u001b[49m\u001b[38;5;241;43m.\u001b[39;49m\u001b[43melement_spec\u001b[49m\u001b[43m,\u001b[49m\u001b[43m \u001b[49m\u001b[43mds_info\u001b[49m\u001b[38;5;241;43m=\u001b[39;49m\u001b[43mds_info\u001b[49m\u001b[43m)\u001b[49m\n\u001b[0;32m    214\u001b[0m rows \u001b[38;5;241m=\u001b[39m [_make_row_dict(ex, columns) \u001b[38;5;28;01mfor\u001b[39;00m ex \u001b[38;5;129;01min\u001b[39;00m dataset_utils\u001b[38;5;241m.\u001b[39mas_numpy(ds)]\n\u001b[0;32m    215\u001b[0m df \u001b[38;5;241m=\u001b[39m StyledDataFrame(rows)\n",
      "File \u001b[1;32m~\\AppData\\Local\\Packages\\PythonSoftwareFoundation.Python.3.10_qbz5n2kfra8p0\\LocalCache\\local-packages\\Python310\\site-packages\\tensorflow_datasets\\core\\as_dataframe.py:129\u001b[0m, in \u001b[0;36m_make_columns\u001b[1;34m(specs, ds_info)\u001b[0m\n\u001b[0;32m    124\u001b[0m \u001b[38;5;28;01mdef\u001b[39;00m \u001b[38;5;21m_make_columns\u001b[39m(\n\u001b[0;32m    125\u001b[0m     specs: TreeDict[tf\u001b[38;5;241m.\u001b[39mTypeSpec],\n\u001b[0;32m    126\u001b[0m     ds_info: Optional[dataset_info\u001b[38;5;241m.\u001b[39mDatasetInfo],\n\u001b[0;32m    127\u001b[0m ) \u001b[38;5;241m-\u001b[39m\u001b[38;5;241m>\u001b[39m List[ColumnInfo]:\n\u001b[0;32m    128\u001b[0m \u001b[38;5;250m  \u001b[39m\u001b[38;5;124;03m\"\"\"Extract the columns info of the `panda.DataFrame`.\"\"\"\u001b[39;00m\n\u001b[1;32m--> 129\u001b[0m   \u001b[38;5;28;01mreturn\u001b[39;00m [\n\u001b[0;32m    130\u001b[0m       ColumnInfo\u001b[38;5;241m.\u001b[39mfrom_spec(path, ds_info)\n\u001b[0;32m    131\u001b[0m       \u001b[38;5;28;01mfor\u001b[39;00m path, _ \u001b[38;5;129;01min\u001b[39;00m py_utils\u001b[38;5;241m.\u001b[39mflatten_with_path(specs)\n\u001b[0;32m    132\u001b[0m   ]\n",
      "File \u001b[1;32m~\\AppData\\Local\\Packages\\PythonSoftwareFoundation.Python.3.10_qbz5n2kfra8p0\\LocalCache\\local-packages\\Python310\\site-packages\\tensorflow_datasets\\core\\as_dataframe.py:130\u001b[0m, in \u001b[0;36m<listcomp>\u001b[1;34m(.0)\u001b[0m\n\u001b[0;32m    124\u001b[0m \u001b[38;5;28;01mdef\u001b[39;00m \u001b[38;5;21m_make_columns\u001b[39m(\n\u001b[0;32m    125\u001b[0m     specs: TreeDict[tf\u001b[38;5;241m.\u001b[39mTypeSpec],\n\u001b[0;32m    126\u001b[0m     ds_info: Optional[dataset_info\u001b[38;5;241m.\u001b[39mDatasetInfo],\n\u001b[0;32m    127\u001b[0m ) \u001b[38;5;241m-\u001b[39m\u001b[38;5;241m>\u001b[39m List[ColumnInfo]:\n\u001b[0;32m    128\u001b[0m \u001b[38;5;250m  \u001b[39m\u001b[38;5;124;03m\"\"\"Extract the columns info of the `panda.DataFrame`.\"\"\"\u001b[39;00m\n\u001b[0;32m    129\u001b[0m   \u001b[38;5;28;01mreturn\u001b[39;00m [\n\u001b[1;32m--> 130\u001b[0m       \u001b[43mColumnInfo\u001b[49m\u001b[38;5;241;43m.\u001b[39;49m\u001b[43mfrom_spec\u001b[49m\u001b[43m(\u001b[49m\u001b[43mpath\u001b[49m\u001b[43m,\u001b[49m\u001b[43m \u001b[49m\u001b[43mds_info\u001b[49m\u001b[43m)\u001b[49m\n\u001b[0;32m    131\u001b[0m       \u001b[38;5;28;01mfor\u001b[39;00m path, _ \u001b[38;5;129;01min\u001b[39;00m py_utils\u001b[38;5;241m.\u001b[39mflatten_with_path(specs)\n\u001b[0;32m    132\u001b[0m   ]\n",
      "File \u001b[1;32m~\\AppData\\Local\\Packages\\PythonSoftwareFoundation.Python.3.10_qbz5n2kfra8p0\\LocalCache\\local-packages\\Python310\\site-packages\\tensorflow_datasets\\core\\as_dataframe.py:61\u001b[0m, in \u001b[0;36mColumnInfo.from_spec\u001b[1;34m(cls, path, ds_info)\u001b[0m\n\u001b[0;32m     54\u001b[0m \u001b[38;5;129m@classmethod\u001b[39m\n\u001b[0;32m     55\u001b[0m \u001b[38;5;28;01mdef\u001b[39;00m \u001b[38;5;21mfrom_spec\u001b[39m(\n\u001b[0;32m     56\u001b[0m     \u001b[38;5;28mcls\u001b[39m,\n\u001b[0;32m     57\u001b[0m     path: Tuple[\u001b[38;5;28mstr\u001b[39m],\n\u001b[0;32m     58\u001b[0m     ds_info: Optional[dataset_info\u001b[38;5;241m.\u001b[39mDatasetInfo],\n\u001b[0;32m     59\u001b[0m ) \u001b[38;5;241m-\u001b[39m\u001b[38;5;241m>\u001b[39m \u001b[38;5;124m'\u001b[39m\u001b[38;5;124mColumnInfo\u001b[39m\u001b[38;5;124m'\u001b[39m:\n\u001b[0;32m     60\u001b[0m \u001b[38;5;250m  \u001b[39m\u001b[38;5;124;03m\"\"\"Formatter which filters values hard to read and format.\"\"\"\u001b[39;00m\n\u001b[1;32m---> 61\u001b[0m   name \u001b[38;5;241m=\u001b[39m \u001b[38;5;124;43m'\u001b[39;49m\u001b[38;5;124;43m/\u001b[39;49m\u001b[38;5;124;43m'\u001b[39;49m\u001b[38;5;241;43m.\u001b[39;49m\u001b[43mjoin\u001b[49m\u001b[43m(\u001b[49m\u001b[43mpath\u001b[49m\u001b[43m)\u001b[49m\n\u001b[0;32m     63\u001b[0m   \u001b[38;5;66;03m# If ds_info is not provided, no formatting\u001b[39;00m\n\u001b[0;32m     64\u001b[0m   \u001b[38;5;28;01mif\u001b[39;00m \u001b[38;5;129;01mnot\u001b[39;00m ds_info:\n\u001b[0;32m     65\u001b[0m     \u001b[38;5;66;03m# Could use the spec for a better formatting ?\u001b[39;00m\n",
      "\u001b[1;31mTypeError\u001b[0m: sequence item 0: expected str instance, int found"
     ]
    }
   ],
   "source": [
    "import pandas as pd\n",
    "import nltk\n",
    "from nltk.tokenize import word_tokenize\n",
    "from sklearn.model_selection import train_test_split\n",
    "import tensorflow as tf\n",
    "from tensorflow.keras.layers import Input, Dense, LSTM, Embedding\n",
    "from tensorflow.keras.models import Model\n",
    "from tensorflow.keras.optimizers import Adam\n",
    "import tensorflow_datasets as tfds\n",
    "\n",
    "# Download NLTK data\n",
    "nltk.download('punkt')\n",
    "\n",
    "# Load IMDb dataset from TensorFlow Datasets\n",
    "dataset, info = tfds.load('imdb_reviews', with_info=True, as_supervised=True)\n",
    "\n",
    "# Convert dataset to lists of texts and labels\n",
    "train_texts = []\n",
    "train_labels = []\n",
    "for text, label in tfds.as_numpy(dataset['train']):\n",
    "    train_texts.append(text.decode('utf-8'))\n",
    "    train_labels.append(label)\n",
    "\n",
    "test_texts = []\n",
    "test_labels = []\n",
    "for text, label in tfds.as_numpy(dataset['test']):\n",
    "    test_texts.append(text.decode('utf-8'))\n",
    "    test_labels.append(label)\n",
    "\n",
    "# Create DataFrame\n",
    "train_data_tfds = pd.DataFrame({'text': train_texts, 'label': train_labels})\n",
    "test_data_tfds = pd.DataFrame({'text': test_texts, 'label': test_labels})\n",
    "\n",
    "# Prepare the dataset by concatenating the train and test sets\n",
    "data = pd.concat([train_data_tfds, test_data_tfds], ignore_index=True)\n",
    "\n",
    "# Remove special characters\n",
    "data['text'] = data['text'].str.replace('[^a-zA-Z0-9\\s]', '', regex=True)\n",
    "\n",
    "# Tokenization\n",
    "data['tokens'] = data['text'].apply(word_tokenize)\n",
    "\n",
    "# Splitting Data into Training and Validation Sets\n",
    "train_data, validation_data = train_test_split(data, test_size=0.2, random_state=42)\n",
    "\n",
    "# Convert tokens to sequences and pad them\n",
    "tokenizer = tf.keras.preprocessing.text.Tokenizer()\n",
    "tokenizer.fit_on_texts(train_data['tokens'].tolist())\n",
    "train_sequences = tokenizer.texts_to_sequences(train_data['tokens'].tolist())\n",
    "validation_sequences = tokenizer.texts_to_sequences(validation_data['tokens'].tolist())\n",
    "\n",
    "train_padded = tf.keras.preprocessing.sequence.pad_sequences(train_sequences, padding='post')\n",
    "validation_padded = tf.keras.preprocessing.sequence.pad_sequences(validation_sequences, padding='post')\n",
    "\n",
    "# Define the neural network architecture\n",
    "input_layer = Input(shape=(None,))\n",
    "embedding_layer = Embedding(input_dim=len(tokenizer.word_index)+1, output_dim=128)(input_layer)\n",
    "lstm_layer = LSTM(128, return_sequences=True)(embedding_layer)\n",
    "output_layer = Dense(len(tokenizer.word_index)+1, activation='softmax')(lstm_layer)\n",
    "\n",
    "# Configure the model\n",
    "model = Model(inputs=input_layer, outputs=output_layer)\n",
    "optimizer = Adam(learning_rate=0.001)\n",
    "model.compile(optimizer=optimizer, loss='sparse_categorical_crossentropy', metrics=['accuracy'])\n",
    "\n",
    "# Train the model\n",
    "model.fit(train_padded, train_padded, epochs=10, validation_data=(validation_padded, validation_padded))\n",
    "\n",
    "# Validate the model\n",
    "loss, accuracy = model.evaluate(validation_padded, validation_padded)\n",
    "print(f'Validation Loss: {loss}, Validation Accuracy: {accuracy}')\n"
   ]
  }
 ],
 "metadata": {
  "kernelspec": {
   "display_name": "Python 3",
   "language": "python",
   "name": "python3"
  },
  "language_info": {
   "codemirror_mode": {
    "name": "ipython",
    "version": 3
   },
   "file_extension": ".py",
   "mimetype": "text/x-python",
   "name": "python",
   "nbconvert_exporter": "python",
   "pygments_lexer": "ipython3",
   "version": "3.10.11"
  }
 },
 "nbformat": 4,
 "nbformat_minor": 2
}
